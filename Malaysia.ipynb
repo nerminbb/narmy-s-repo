{
    "cells": [
        {
            "cell_type": "markdown",
            "metadata": {},
            "source": "# MALAYSIA "
        },
        {
            "cell_type": "markdown",
            "metadata": {},
            "source": "## Introduction"
        },
        {
            "cell_type": "markdown",
            "metadata": {},
            "source": "We will analyse venues in Malaysia and find out which venues is profitable to open in Malaysia"
        },
        {
            "cell_type": "markdown",
            "metadata": {},
            "source": "## Business problem"
        },
        {
            "cell_type": "markdown",
            "metadata": {},
            "source": "The aim of doing this analyse is to find the most suitable place to find a restaurant and which kind of restaurant will be best choise to open in that place. For this report, we will analyse neighbourhoods in Malaysia and discover venues there. We will use data science methods and machine learning tools( clustering, making maps) to resolve this business problem and make complete report for the any entrepreneurs who is intrested in opening venue in Malaysia"
        },
        {
            "cell_type": "markdown",
            "metadata": {},
            "source": "## Target audience"
        },
        {
            "cell_type": "markdown",
            "metadata": {},
            "source": "The entrepreneurs who are intrested opening venue in Malaysia"
        },
        {
            "cell_type": "markdown",
            "metadata": {},
            "source": "## Data"
        },
        {
            "cell_type": "markdown",
            "metadata": {},
            "source": "To make this report we need he following data\n- List of neighbourhoods in Malaysia\n- Latitude and Longitude of these neighbourshoods\n- Informaion about Venues "
        },
        {
            "cell_type": "markdown",
            "metadata": {},
            "source": "## Methodology"
        },
        {
            "cell_type": "markdown",
            "metadata": {},
            "source": "Firstly, we will need the neighbourhoods in Malaysia. We will get the needed information from Wikipedia. Next, we`ll have  coordinates of the neughbourhoods and we need to use Foursquare API to get needed information about venues. The geocoder package will be needed to determine latitude and longitude based on the location name. The Folium package will be used to visualize the map of the city and venues. Kmeans clustering will be used to cluster resaurants and neighnourhoods."
        },
        {
            "cell_type": "markdown",
            "metadata": {},
            "source": "## Results"
        },
        {
            "cell_type": "markdown",
            "metadata": {},
            "source": "In the result of this report we will get the k-means clustering show that we can categorize Malaysia neighborhoods"
        },
        {
            "cell_type": "markdown",
            "metadata": {},
            "source": "## Discussion\n"
        },
        {
            "cell_type": "markdown",
            "metadata": {},
            "source": "This analysis will allow the developer to make an informed decision about the more profitable place of business to set up restaurant. we aim to minimize the competition and distinguish your business. we will discuss which reatauran will be more suitable to open and in which place will be best suit for it."
        },
        {
            "cell_type": "markdown",
            "metadata": {},
            "source": "## Conclusion"
        },
        {
            "cell_type": "markdown",
            "metadata": {},
            "source": "we will conclude the report by making clear decision for the entrepeuners and business holders"
        },
        {
            "cell_type": "code",
            "execution_count": null,
            "metadata": {},
            "outputs": [],
            "source": ""
        }
    ],
    "metadata": {
        "kernelspec": {
            "display_name": "Python 3.6",
            "language": "python",
            "name": "python3"
        },
        "language_info": {
            "codemirror_mode": {
                "name": "ipython",
                "version": 3
            },
            "file_extension": ".py",
            "mimetype": "text/x-python",
            "name": "python",
            "nbconvert_exporter": "python",
            "pygments_lexer": "ipython3",
            "version": "3.6.9"
        }
    },
    "nbformat": 4,
    "nbformat_minor": 1
}